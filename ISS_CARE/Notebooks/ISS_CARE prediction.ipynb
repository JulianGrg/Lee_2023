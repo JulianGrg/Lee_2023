{
 "cells": [
  {
   "cell_type": "markdown",
   "id": "8f5c1ab6",
   "metadata": {},
   "source": [
    "# Accelerated \"deconvolution\" of projected images using CARE\n",
    "\n",
    "This notebook demonstrates applying a CARE model for a 2D denoising task, assuming that training was already completed via [2_training.ipynb](2_training.ipynb), or that a pre-trained model is available.\n",
    " \n",
    "**We provide a pre-trained model**, which has been trained of an heterogenous set of ISS data coming from 2 different microscopes (Leica and Zeiss in our lab), magnifications (20x and 40x) and tissues (fly embryos and ovaries, developing human spinal cord and mouse brains). \n",
    "\n",
    "Our models have been benchmarked using chicken brain data (never seen in the training process), and show excellent performance and a great speed tradeoff Vs canonical deconvolution. \n",
    "\n",
    "**However, we strongly advise training your own model, especially if you don't belong to Mats Nilsson's lab. Your microscope and data might be significantly different from ours, and our models could potentially produce artifacts in your data.** \n",
    "\n",
    "More documentation about how CARE works, and about how to train your own models, is available at http://csbdeep.bioimagecomputing.com/doc/."
   ]
  },
  {
   "cell_type": "markdown",
   "id": "92ab7c88",
   "metadata": {},
   "source": [
    "## How to use this notebook\n",
    "\n",
    "In our lab's workflow, CARE-mediate deconvolution should be applied just after the preprocessing step, on the `/preprocessing/ReslicedTiles/` folder.\n",
    "\n",
    "In the notebook the user is asked to specify as inputs the following variables:\n",
    "\n",
    "`directory`: this is the full path of the folder with the raw images (down to and including `/preprocessing/ReslicedTiles/`).\n",
    "\n",
    "`basedir_model`: this is the path to the parent folder of the models.\n",
    "\n",
    "`model_name`: this is the name of the CARE model to apply.\n",
    "\n",
    "`ouput_dir`: this is the output directory for the denoised images. A `/preprocessing/ReslicedTiles/` folder will be created here, along with specific subfolder reflecting the folder tree of the input path.\n",
    "\n",
    "`DAPI_ch`: specify here which of the channels contains DAPI in the `ReslicedTiles` images. This is because our CARE models have been trained only on images containing spots and perform poorly on DAPI. DAPI images will be copied into the output folder without any processing.\n"
   ]
  },
  {
   "cell_type": "code",
   "execution_count": 27,
   "id": "1b8a71f7",
   "metadata": {},
   "outputs": [],
   "source": [
    "from ISS_CARE.ISS_CARE import ISS_CARE"
   ]
  },
  {
   "cell_type": "code",
   "execution_count": null,
   "id": "3d5e1a51",
   "metadata": {},
   "outputs": [],
   "source": [
    "ISS_CARE(directory = '/media/external/18AAE983AAE95DAE/CHK 2_18_17/preprocessing/ReslicedTiles/',\n",
    "             basedir_model = '/home/marco/CARE/models/',\n",
    "             model_name = 'spots',\n",
    "             output_dir = '/media/external/18AAE983AAE95DAE/CHK 2_18_17/CARE/',\n",
    "             DAPI_ch=5)"
   ]
  },
  {
   "cell_type": "code",
   "execution_count": 31,
   "id": "dda89a08",
   "metadata": {},
   "outputs": [],
   "source": []
  },
  {
   "cell_type": "code",
   "execution_count": 32,
   "id": "757bab4c",
   "metadata": {},
   "outputs": [
    {
     "data": {
      "text/plain": [
       "dtype('float32')"
      ]
     },
     "execution_count": 32,
     "metadata": {},
     "output_type": "execute_result"
    }
   ],
   "source": []
  },
  {
   "cell_type": "code",
   "execution_count": null,
   "id": "3b25aaa2",
   "metadata": {},
   "outputs": [],
   "source": []
  }
 ],
 "metadata": {
  "kernelspec": {
   "display_name": "tensorflow",
   "language": "python",
   "name": "tensorflow"
  },
  "language_info": {
   "codemirror_mode": {
    "name": "ipython",
    "version": 3
   },
   "file_extension": ".py",
   "mimetype": "text/x-python",
   "name": "python",
   "nbconvert_exporter": "python",
   "pygments_lexer": "ipython3",
   "version": "3.8.5"
  }
 },
 "nbformat": 4,
 "nbformat_minor": 5
}
